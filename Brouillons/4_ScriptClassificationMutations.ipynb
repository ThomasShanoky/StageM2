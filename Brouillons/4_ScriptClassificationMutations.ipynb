{
 "cells": [
  {
   "cell_type": "markdown",
   "metadata": {},
   "source": [
    "# Importation des données"
   ]
  },
  {
   "cell_type": "markdown",
   "metadata": {},
   "source": [
    "Idée générale : créer un tableau où en ligne on a les gènes (141) et en colonne les patients, le tableau est rempli de 1 ou 0, 1 signifiant la présence du gène muté, 0 l'absence de mutation de ce gène. \n",
    "\n",
    "Pour l'instant, la présence ou l'absence de mutation sur les gènes (remplissage du tableau) se fera avec les données BEAT AML seules. A terme, ces informations proviendront de l'outil de Sandra."
   ]
  },
  {
   "cell_type": "markdown",
   "metadata": {},
   "source": []
  }
 ],
 "metadata": {
  "language_info": {
   "name": "python"
  }
 },
 "nbformat": 4,
 "nbformat_minor": 2
}
